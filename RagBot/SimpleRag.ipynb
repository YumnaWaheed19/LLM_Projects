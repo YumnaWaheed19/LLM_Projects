{
 "cells": [
  {
   "cell_type": "code",
   "execution_count": 1,
   "metadata": {},
   "outputs": [
    {
     "data": {
      "text/plain": [
       "[Document(metadata={'source': 'GenAI.pdf', 'page': 0}, page_content='Generative AI: Concepts and Applications\\n1. Introduction\\nGenerative AI refers to a class of artificial intelligence algorithms that generate new content, such as\\ntext, images, or audio, by learning from large datasets. The key difference between generative AI\\nand traditional AI models is that generative models can create new data, whereas traditional models\\ntypically only analyze and interpret data.\\n2. Key Concepts\\n- Natural Language Generation: Creating human-like text based on input prompts.\\n- Image Synthesis: Generating new images using models like GANs or diffusion models.\\n- Generative Models: Including architectures like Generative Adversarial Networks (GANs),\\nvariational autoencoders (VAEs), and transformer models like GPT.\\n3. Popular Generative Models\\n- GANs (Generative Adversarial Networks): GANs consist of two neural networks, a generator and a\\ndiscriminator, that compete with each other to create realistic data.\\n- Variational Autoencoders (VAEs): VAEs are generative models that learn to encode data into a\\nlatent space and then decode it back, generating new, similar content.\\n- GPT (Generative Pre-trained Transformer): The GPT family of models, such as GPT-3, is designed\\nto generate human-like text by predicting the next word in a sequence based on large-scale training\\ndata.\\n4. Applications of Generative AI\\n- Text generation for chatbots and virtual assistants.\\n- Image generation for art and design.\\n- Audio generation for voice assistants and music creation.\\n- Data augmentation for training machine learning models.\\n5. Conclusion\\nGenerative AI has revolutionized the field of artificial intelligence by enabling machines to create'),\n",
       " Document(metadata={'source': 'GenAI.pdf', 'page': 1}, page_content='new and innovative content. Its applications span across industries, offering new ways to interact\\nwith AI systems in creative, efficient, and scalable ways.')]"
      ]
     },
     "execution_count": 1,
     "metadata": {},
     "output_type": "execute_result"
    }
   ],
   "source": [
    "#retriever and Chain\n",
    "\n",
    "from langchain_community.document_loaders import PyPDFLoader\n",
    "loader = PyPDFLoader(\"GenAI.pdf\")\n",
    "docs = loader.load()\n",
    "docs"
   ]
  },
  {
   "cell_type": "code",
   "execution_count": 2,
   "metadata": {},
   "outputs": [],
   "source": [
    "import os   # call environment variables\n",
    "from dotenv import load_dotenv\n",
    "\n",
    "load_dotenv()\n",
    "\n",
    "# Langsmith\n",
    "os.environ[\"LANGCHAIN_API_KEY\"] = os.getenv(\"LANGCHAIN_API_KEY\")\n",
    "os.environ[\"LANGCHAIN_TRACING_V2\"] = \"true\""
   ]
  },
  {
   "cell_type": "code",
   "execution_count": 3,
   "metadata": {},
   "outputs": [
    {
     "data": {
      "text/plain": [
       "[Document(metadata={'source': 'GenAI.pdf', 'page': 0}, page_content='Generative AI: Concepts and Applications\\n1. Introduction\\nGenerative AI refers to a class of artificial intelligence algorithms that generate new content, such as\\ntext, images, or audio, by learning from large datasets. The key difference between generative AI\\nand traditional AI models is that generative models can create new data, whereas traditional models\\ntypically only analyze and interpret data.\\n2. Key Concepts\\n- Natural Language Generation: Creating human-like text based on input prompts.'),\n",
       " Document(metadata={'source': 'GenAI.pdf', 'page': 0}, page_content='2. Key Concepts\\n- Natural Language Generation: Creating human-like text based on input prompts.\\n- Image Synthesis: Generating new images using models like GANs or diffusion models.\\n- Generative Models: Including architectures like Generative Adversarial Networks (GANs),\\nvariational autoencoders (VAEs), and transformer models like GPT.\\n3. Popular Generative Models\\n- GANs (Generative Adversarial Networks): GANs consist of two neural networks, a generator and a'),\n",
       " Document(metadata={'source': 'GenAI.pdf', 'page': 0}, page_content='- GANs (Generative Adversarial Networks): GANs consist of two neural networks, a generator and a\\ndiscriminator, that compete with each other to create realistic data.\\n- Variational Autoencoders (VAEs): VAEs are generative models that learn to encode data into a\\nlatent space and then decode it back, generating new, similar content.\\n- GPT (Generative Pre-trained Transformer): The GPT family of models, such as GPT-3, is designed'),\n",
       " Document(metadata={'source': 'GenAI.pdf', 'page': 0}, page_content='- GPT (Generative Pre-trained Transformer): The GPT family of models, such as GPT-3, is designed\\nto generate human-like text by predicting the next word in a sequence based on large-scale training\\ndata.\\n4. Applications of Generative AI\\n- Text generation for chatbots and virtual assistants.\\n- Image generation for art and design.\\n- Audio generation for voice assistants and music creation.\\n- Data augmentation for training machine learning models.\\n5. Conclusion'),\n",
       " Document(metadata={'source': 'GenAI.pdf', 'page': 0}, page_content='- Data augmentation for training machine learning models.\\n5. Conclusion\\nGenerative AI has revolutionized the field of artificial intelligence by enabling machines to create'),\n",
       " Document(metadata={'source': 'GenAI.pdf', 'page': 1}, page_content='new and innovative content. Its applications span across industries, offering new ways to interact\\nwith AI systems in creative, efficient, and scalable ways.')]"
      ]
     },
     "execution_count": 3,
     "metadata": {},
     "output_type": "execute_result"
    }
   ],
   "source": [
    "# recursive character splitting\n",
    "from langchain_text_splitters import RecursiveCharacterTextSplitter\n",
    "text_splitter = RecursiveCharacterTextSplitter(chunk_size=500, chunk_overlap=100)\n",
    "chunk_document = text_splitter.split_documents(docs)\n",
    "chunk_document"
   ]
  },
  {
   "cell_type": "code",
   "execution_count": 4,
   "metadata": {},
   "outputs": [
    {
     "data": {
      "text/plain": [
       "<langchain_community.vectorstores.faiss.FAISS at 0x149eeec1970>"
      ]
     },
     "execution_count": 4,
     "metadata": {},
     "output_type": "execute_result"
    }
   ],
   "source": [
    "from langchain_ollama import OllamaEmbeddings\n",
    "from langchain_community.vectorstores import FAISS\n",
    "embedding = OllamaEmbeddings(\n",
    "    model = \"llama2\",\n",
    ")\n",
    "\n",
    "db = FAISS.from_documents(chunk_document, embedding = embedding)\n",
    "db"
   ]
  },
  {
   "cell_type": "code",
   "execution_count": 5,
   "metadata": {},
   "outputs": [
    {
     "name": "stdout",
     "output_type": "stream",
     "text": [
      "- GPT (Generative Pre-trained Transformer): The GPT family of models, such as GPT-3, is designed\n",
      "to generate human-like text by predicting the next word in a sequence based on large-scale training\n",
      "data.\n",
      "4. Applications of Generative AI\n",
      "- Text generation for chatbots and virtual assistants.\n",
      "- Image generation for art and design.\n",
      "- Audio generation for voice assistants and music creation.\n",
      "- Data augmentation for training machine learning models.\n",
      "5. Conclusion\n"
     ]
    }
   ],
   "source": [
    "query = \"Describe the Key concepts of Generative AI\"\n",
    "retrieved_result = db.similarity_search(query)\n",
    "print(retrieved_result[0].page_content)"
   ]
  },
  {
   "cell_type": "code",
   "execution_count": 6,
   "metadata": {},
   "outputs": [],
   "source": [
    "# Design Chat Prompt Template\n",
    "\n",
    "from langchain_core.prompts import ChatPromptTemplate\n",
    "prompt = ChatPromptTemplate.from_template(\"\"\"\n",
    "Answer the following question based only on the provided context.\n",
    "Think step by step before providing a detailed answer.\n",
    "I will tip you $10 if the user finds the answer helpful.\n",
    "<context>\n",
    "{context}\n",
    "</context>\n",
    "\n",
    "Question: {input}                                        \n",
    "                                          \n",
    "\"\"\")\n"
   ]
  },
  {
   "cell_type": "code",
   "execution_count": 7,
   "metadata": {},
   "outputs": [
    {
     "data": {
      "text/plain": [
       "Ollama()"
      ]
     },
     "execution_count": 7,
     "metadata": {},
     "output_type": "execute_result"
    }
   ],
   "source": [
    "from langchain_community.llms import Ollama\n",
    "llm = Ollama(model =\"llama2\")\n",
    "llm\n"
   ]
  },
  {
   "cell_type": "code",
   "execution_count": 8,
   "metadata": {},
   "outputs": [
    {
     "data": {
      "text/plain": [
       "RunnableBinding(bound=RunnableBinding(bound=RunnableAssign(mapper={\n",
       "  context: RunnableLambda(format_docs)\n",
       "}), kwargs={}, config={'run_name': 'format_inputs'}, config_factories=[])\n",
       "| ChatPromptTemplate(input_variables=['context', 'input'], input_types={}, partial_variables={}, messages=[HumanMessagePromptTemplate(prompt=PromptTemplate(input_variables=['context', 'input'], input_types={}, partial_variables={}, template='\\nAnswer the following question based only on the provided context.\\nThink step by step before providing a detailed answer.\\nI will tip you $10 if the user finds the answer helpful.\\n<context>\\n{context}\\n</context>\\n\\nQuestion: {input}                                        \\n                                          \\n'), additional_kwargs={})])\n",
       "| Ollama()\n",
       "| StrOutputParser(), kwargs={}, config={'run_name': 'stuff_documents_chain'}, config_factories=[])"
      ]
     },
     "execution_count": 8,
     "metadata": {},
     "output_type": "execute_result"
    }
   ],
   "source": [
    "# Chain \n",
    "from langchain.chains.combine_documents import create_stuff_documents_chain\n",
    "document_chain = create_stuff_documents_chain(llm, prompt)\n",
    "document_chain\n"
   ]
  },
  {
   "cell_type": "code",
   "execution_count": 9,
   "metadata": {},
   "outputs": [
    {
     "data": {
      "text/plain": [
       "VectorStoreRetriever(tags=['FAISS', 'OllamaEmbeddings'], vectorstore=<langchain_community.vectorstores.faiss.FAISS object at 0x00000149EEEC1970>, search_kwargs={})"
      ]
     },
     "execution_count": 9,
     "metadata": {},
     "output_type": "execute_result"
    }
   ],
   "source": [
    "# Retrievers\n",
    " # It craetes a interface and take data from vector store and display it\n",
    "retriever = db.as_retriever() \n",
    "retriever"
   ]
  },
  {
   "cell_type": "code",
   "execution_count": 10,
   "metadata": {},
   "outputs": [],
   "source": [
    "\n",
    "\"\"\"\n",
    "Retrieval chain:This chain takes in a user inquiry, which is then\n",
    "passed to the retriever to fetch relevant documents. Those documents \n",
    "(and original inputs) are then passed to an LLM to generate a response\n",
    "https://python.langchain.com/docs/modules/chains/ \n",
    "\"\"\"\n",
    "\n",
    "from langchain.chains import create_retrieval_chain\n",
    "retriever_chain = create_retrieval_chain(retriever, document_chain)\n"
   ]
  },
  {
   "cell_type": "code",
   "execution_count": 11,
   "metadata": {},
   "outputs": [
    {
     "data": {
      "text/plain": [
       "'Generative AI refers to a class of artificial intelligence algorithms that generate new content, such as text, images, or audio, by learning from large datasets. These models are designed to create new data that resembles the original training data, rather than simply analyzing and interpreting it like traditional machine learning models. Generative AI models are trained on vast amounts of data and use complex neural networks to learn patterns and relationships within the data. They can then generate new content that is similar but not identical to the original training data.\\n\\nThe key difference between generative AI and traditional AI models is that generative models can create new data, whereas traditional models typically only analyze and interpret data. Generative AI has numerous applications across various industries, including text generation for chatbots and virtual assistants, image generation for art and design, audio generation for voice assistants and music creation, and data augmentation for training machine learning models.\\n\\nSome popular generative models include:\\n\\n1. Generative Adversarial Networks (GANs): GANs consist of two neural networks, a generator and a discriminator, that compete with each other to create realistic data.\\n2. Variational Autoencoders (VAEs): VAEs are generative models that learn to encode data into a latent space and then decode it back, generating new, similar content.\\n3. Generative Pre-trained Transformer (GPT): The GPT family of models, such as GPT-3, is designed to generate human-like text by predicting the next word in a sequence based on large-scale training data.\\n4. Image Synthesis: Generating new images using models like GANs or diffusion models.\\n5. Generative Models: Including architectures like GANs, VAEs, and transformer models like GPT.'"
      ]
     },
     "execution_count": 11,
     "metadata": {},
     "output_type": "execute_result"
    }
   ],
   "source": [
    "response =retriever_chain.invoke({\"input\": \"What is Generative AI\"})\n",
    "response['answer']"
   ]
  }
 ],
 "metadata": {
  "kernelspec": {
   "display_name": "base",
   "language": "python",
   "name": "python3"
  },
  "language_info": {
   "codemirror_mode": {
    "name": "ipython",
    "version": 3
   },
   "file_extension": ".py",
   "mimetype": "text/x-python",
   "name": "python",
   "nbconvert_exporter": "python",
   "pygments_lexer": "ipython3",
   "version": "3.12.4"
  }
 },
 "nbformat": 4,
 "nbformat_minor": 2
}
